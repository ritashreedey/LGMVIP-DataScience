
   "cell_type": "markdown",
   "id": "8ffc15db",
   "metadata": {},
   "source": [
    "# MNIST HANDWRITTEN DIGIT CLASSIFICATION CHALLENGE USING TENSORFLOW AND CNN"
   ]
  },
  {
   "cell_type": "markdown",
   "id": "24b43f7b",
   "metadata": {},
   "source": [
    "Importing Libraries"
   ]
  },
  {
   "cell_type": "code",
   "execution_count": 1,
   "id": "c7ff931b",
   "metadata": {},
   "outputs": [],
   "source": [
    "import tensorflow as tf\n",
    "from tensorflow import keras\n",
    "import matplotlib.pyplot as plt\n",
    "%matplotlib inline\n",
    "import numpy as np"
   ]
  },
  {
   "cell_type": "code",
   "execution_count": 2,
   "id": "c0b8f362",
   "metadata": {},
   "outputs": [],
   "source": [
    "(X_train,y_train),(X_test,y_test)=keras.datasets.mnist.load_data()"
   ]
  },
  {
   "cell_type": "code",
   "execution_count": 3,
   "id": "340eaf11",
   "metadata": {},
   "outputs": [
    {
     "data": {
      "text/plain": [
       "60000"
      ]
     },
     "execution_count": 3,
     "metadata": {},
     "output_type": "execute_result"
    }
   ],
   "source": [
    "len(X_train)"
   ]
  },
  {
   "cell_type": "code",
   "execution_count": 4,
   "id": "06b985e7",
   "metadata": {},
   "outputs": [
    {
     "data": {
      "text/plain": [
       "10000"
      ]
     },
     "execution_count": 4,
     "metadata": {},
     "output_type": "execute_result"
    }
   ],
   "source": [
    "len(X_test)"
   ]
  },
  {
   "cell_type": "code",
   "execution_count": 5,
   "id": "4c3fce4d",
   "metadata": {},
   "outputs": [
    {
     "data": {
      "text/plain": [
       "(28, 28)"
      ]
     },
     "execution_count": 5,
     "metadata": {},
     "output_type": "execute_result"
    }
   ],
   "source": [
    "X_train[0].shape"
   ]
  },
  {
   "cell_type": "code",
   "execution_count": 6,
   "id": "16eb1800",
   "metadata": {},
   "outputs": [
    {
     "data": {
      "text/plain": [
       "array([[  0,   0,   0,   0,   0,   0,   0,   0,   0,   0,   0,   0,   0,\n",
       "          0,   0,   0,   0,   0,   0,   0,   0,   0,   0,   0,   0,   0,\n",
       "          0,   0],\n",
       "       [  0,   0,   0,   0,   0,   0,   0,   0,   0,   0,   0,   0,   0,\n",
       "          0,   0,   0,   0,   0,   0,   0,   0,   0,   0,   0,   0,   0,\n",
       "          0,   0],\n",
       "       [  0,   0,   0,   0,   0,   0,   0,   0,   0,   0,   0,   0,   0,\n",
       "          0,   0,   0,   0,   0,   0,   0,   0,   0,   0,   0,   0,   0,\n",
       "          0,   0],\n",
       "       [  0,   0,   0,   0,   0,   0,   0,   0,   0,   0,   0,   0,   0,\n",
       "          0,   0,   0,   0,   0,   0,   0,   0,   0,   0,   0,   0,   0,\n",
       "          0,   0],\n",
       "       [  0,   0,   0,   0,   0,   0,   0,   0,   0,   0,   0,   0,   0,\n",
       "          0,   0,   0,   0,   0,   0,   0,   0,   0,   0,   0,   0,   0,\n",
       "          0,   0],\n",
       "       [  0,   0,   0,   0,   0,   0,   0,   0,   0,   0,   0,   0,   3,\n",
       "         18,  18,  18, 126, 136, 175,  26, 166, 255, 247, 127,   0,   0,\n",
       "          0,   0],\n",
       "       [  0,   0,   0,   0,   0,   0,   0,   0,  30,  36,  94, 154, 170,\n",
       "        253, 253, 253, 253, 253, 225, 172, 253, 242, 195,  64,   0,   0,\n",
       "          0,   0],\n",
       "       [  0,   0,   0,   0,   0,   0,   0,  49, 238, 253, 253, 253, 253,\n",
       "        253, 253, 253, 253, 251,  93,  82,  82,  56,  39,   0,   0,   0,\n",
       "          0,   0],\n",
       "       [  0,   0,   0,   0,   0,   0,   0,  18, 219, 253, 253, 253, 253,\n",
       "        253, 198, 182, 247, 241,   0,   0,   0,   0,   0,   0,   0,   0,\n",
       "          0,   0],\n",
       "       [  0,   0,   0,   0,   0,   0,   0,   0,  80, 156, 107, 253, 253,\n",
       "        205,  11,   0,  43, 154,   0,   0,   0,   0,   0,   0,   0,   0,\n",
       "          0,   0],\n",
       "       [  0,   0,   0,   0,   0,   0,   0,   0,   0,  14,   1, 154, 253,\n",
       "         90,   0,   0,   0,   0,   0,   0,   0,   0,   0,   0,   0,   0,\n",
       "          0,   0],\n",
       "       [  0,   0,   0,   0,   0,   0,   0,   0,   0,   0,   0, 139, 253,\n",
       "        190,   2,   0,   0,   0,   0,   0,   0,   0,   0,   0,   0,   0,\n",
       "          0,   0],\n",
       "       [  0,   0,   0,   0,   0,   0,   0,   0,   0,   0,   0,  11, 190,\n",
       "        253,  70,   0,   0,   0,   0,   0,   0,   0,   0,   0,   0,   0,\n",
       "          0,   0],\n",
       "       [  0,   0,   0,   0,   0,   0,   0,   0,   0,   0,   0,   0,  35,\n",
       "        241, 225, 160, 108,   1,   0,   0,   0,   0,   0,   0,   0,   0,\n",
       "          0,   0],\n",
       "       [  0,   0,   0,   0,   0,   0,   0,   0,   0,   0,   0,   0,   0,\n",
       "         81, 240, 253, 253, 119,  25,   0,   0,   0,   0,   0,   0,   0,\n",
       "          0,   0],\n",
       "       [  0,   0,   0,   0,   0,   0,   0,   0,   0,   0,   0,   0,   0,\n",
       "          0,  45, 186, 253, 253, 150,  27,   0,   0,   0,   0,   0,   0,\n",
       "          0,   0],\n",
       "       [  0,   0,   0,   0,   0,   0,   0,   0,   0,   0,   0,   0,   0,\n",
       "          0,   0,  16,  93, 252, 253, 187,   0,   0,   0,   0,   0,   0,\n",
       "          0,   0],\n",
       "       [  0,   0,   0,   0,   0,   0,   0,   0,   0,   0,   0,   0,   0,\n",
       "          0,   0,   0,   0, 249, 253, 249,  64,   0,   0,   0,   0,   0,\n",
       "          0,   0],\n",
       "       [  0,   0,   0,   0,   0,   0,   0,   0,   0,   0,   0,   0,   0,\n",
       "          0,  46, 130, 183, 253, 253, 207,   2,   0,   0,   0,   0,   0,\n",
       "          0,   0],\n",
       "       [  0,   0,   0,   0,   0,   0,   0,   0,   0,   0,   0,   0,  39,\n",
       "        148, 229, 253, 253, 253, 250, 182,   0,   0,   0,   0,   0,   0,\n",
       "          0,   0],\n",
       "       [  0,   0,   0,   0,   0,   0,   0,   0,   0,   0,  24, 114, 221,\n",
       "        253, 253, 253, 253, 201,  78,   0,   0,   0,   0,   0,   0,   0,\n",
       "          0,   0],\n",
       "       [  0,   0,   0,   0,   0,   0,   0,   0,  23,  66, 213, 253, 253,\n",
       "        253, 253, 198,  81,   2,   0,   0,   0,   0,   0,   0,   0,   0,\n",
       "          0,   0],\n",
       "       [  0,   0,   0,   0,   0,   0,  18, 171, 219, 253, 253, 253, 253,\n",
       "        195,  80,   9,   0,   0,   0,   0,   0,   0,   0,   0,   0,   0,\n",
       "          0,   0],\n",
       "       [  0,   0,   0,   0,  55, 172, 226, 253, 253, 253, 253, 244, 133,\n",
       "         11,   0,   0,   0,   0,   0,   0,   0,   0,   0,   0,   0,   0,\n",
       "          0,   0],\n",
       "       [  0,   0,   0,   0, 136, 253, 253, 253, 212, 135, 132,  16,   0,\n",
       "          0,   0,   0,   0,   0,   0,   0,   0,   0,   0,   0,   0,   0,\n",
       "          0,   0],\n",
       "       [  0,   0,   0,   0,   0,   0,   0,   0,   0,   0,   0,   0,   0,\n",
       "          0,   0,   0,   0,   0,   0,   0,   0,   0,   0,   0,   0,   0,\n",
       "          0,   0],\n",
       "       [  0,   0,   0,   0,   0,   0,   0,   0,   0,   0,   0,   0,   0,\n",
       "          0,   0,   0,   0,   0,   0,   0,   0,   0,   0,   0,   0,   0,\n",
       "          0,   0],\n",
       "       [  0,   0,   0,   0,   0,   0,   0,   0,   0,   0,   0,   0,   0,\n",
       "          0,   0,   0,   0,   0,   0,   0,   0,   0,   0,   0,   0,   0,\n",
       "          0,   0]], dtype=uint8)"
      ]
     },
     "execution_count": 6,
     "metadata": {},
     "output_type": "execute_result"
    }
   ],
   "source": [
    "X_train[0]"
   ]
  },
  {
   "cell_type": "code",
   "execution_count": 7,
   "id": "2c80f61b",
   "metadata": {},
   "outputs": [
    {
     "data": {
      "text/plain": [
       "<matplotlib.image.AxesImage at 0x255c420ca00>"
      ]
     },
     "execution_count": 7,
     "metadata": {},
     "output_type": "execute_result"
    },
    {
     "data": {
      "image/png": "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\n",
      "text/plain": [
       "<Figure size 288x288 with 1 Axes>"
      ]
     },
     "metadata": {
      "needs_background": "light"
     },
     "output_type": "display_data"
    }
   ],
   "source": [
    "plt.matshow(X_train[0])"
   ]
  },
  {
   "cell_type": "code",
   "execution_count": 8,
   "id": "abd01422",
   "metadata": {},
   "outputs": [
    {
     "data": {
      "text/plain": [
       "5"
      ]
     },
     "execution_count": 8,
     "metadata": {},
     "output_type": "execute_result"
    }
   ],
   "source": [
    "y_train[0]"
   ]
  },
  {
   "cell_type": "code",
   "execution_count": 9,
   "id": "b8e8ab3c",
   "metadata": {},
   "outputs": [
    {
     "data": {
      "text/plain": [
       "(60000, 28, 28)"
      ]
     },
     "execution_count": 9,
     "metadata": {},
     "output_type": "execute_result"
    }
   ],
   "source": [
    "X_train.shape"
   ]
  },
  {
   "cell_type": "code",
   "execution_count": 10,
   "id": "2d05387e",
   "metadata": {},
   "outputs": [],
   "source": [
    "X_train=X_train/255\n",
    "X_test=X_test/255"
   ]
  },
  {
   "cell_type": "code",
   "execution_count": 11,
   "id": "347def11",
   "metadata": {},
   "outputs": [],
   "source": [
    "X_train_flattened=X_train.reshape(len(X_train),28*28)\n",
    "X_test_flattened=X_test.reshape(len(X_test),28*28)"
   ]
  },
  {
   "cell_type": "code",
   "execution_count": 12,
   "id": "13173a1f",
   "metadata": {},
   "outputs": [
    {
     "data": {
      "text/plain": [
       "(10000, 784)"
      ]
     },
     "execution_count": 12,
     "metadata": {},
     "output_type": "execute_result"
    }
   ],
   "source": [
    "X_test_flattened.shape"
   ]
  },
  {
   "cell_type": "code",
   "execution_count": 13,
   "id": "85b2698d",
   "metadata": {},
   "outputs": [
    {
     "data": {
      "text/plain": [
       "(60000, 784)"
      ]
     },
     "execution_count": 13,
     "metadata": {},
     "output_type": "execute_result"
    }
   ],
   "source": [
    "X_train_flattened.shape"
   ]
  },
  {
   "cell_type": "code",
   "execution_count": 14,
   "id": "da6d38f8",
   "metadata": {},
   "outputs": [
    {
     "name": "stdout",
     "output_type": "stream",
     "text": [
      "Epoch 1/5\n",
      "1875/1875 [==============================] - 3s 682us/step - loss: 0.4635 - accuracy: 0.8790\n",
      "Epoch 2/5\n",
      "1875/1875 [==============================] - 1s 735us/step - loss: 0.3033 - accuracy: 0.9152\n",
      "Epoch 3/5\n",
      "1875/1875 [==============================] - 1s 635us/step - loss: 0.2832 - accuracy: 0.9211\n",
      "Epoch 4/5\n",
      "1875/1875 [==============================] - 1s 659us/step - loss: 0.2731 - accuracy: 0.9247\n",
      "Epoch 5/5\n",
      "1875/1875 [==============================] - 1s 635us/step - loss: 0.2670 - accuracy: 0.92540s - los\n"
     ]
    },
    {
     "data": {
      "text/plain": [
       "<keras.callbacks.History at 0x255eb0583a0>"
      ]
     },
     "execution_count": 14,
     "metadata": {},
     "output_type": "execute_result"
    }
   ],
   "source": [
    "model=keras.Sequential([\n",
    "    keras.layers.Dense(10,input_shape=(784,),activation='sigmoid')\n",
    "])\n",
    "\n",
    "model.compile(optimizer='adam',loss='sparse_categorical_crossentropy',metrics=['accuracy'])\n",
    "\n",
    "model.fit(X_train_flattened,y_train,epochs=5)"
   ]
  },
  {
   "cell_type": "code",
   "execution_count": 15,
   "id": "f64bf9fb",
   "metadata": {},
   "outputs": [
    {
     "name": "stdout",
     "output_type": "stream",
     "text": [
      "313/313 [==============================] - 0s 600us/step - loss: 0.2663 - accuracy: 0.9262\n"
     ]
    },
    {
     "data": {
      "text/plain": [
       "[0.26628461480140686, 0.9261999726295471]"
      ]
     },
     "execution_count": 15,
     "metadata": {},
     "output_type": "execute_result"
    }
   ],
   "source": [
    "model.evaluate(X_test_flattened,y_test)"
   ]
  },
  {
   "cell_type": "code",
   "execution_count": 16,
   "id": "b3684fd3",
   "metadata": {},
   "outputs": [
    {
     "data": {
      "text/plain": [
       "<matplotlib.image.AxesImage at 0x255ee259220>"
      ]
     },
     "execution_count": 16,
     "metadata": {},
     "output_type": "execute_result"
    },
    {
     "data": {
      "image/png": "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\n",
      "text/plain": [
       "<Figure size 288x288 with 1 Axes>"
      ]
     },
     "metadata": {
      "needs_background": "light"
     },
     "output_type": "display_data"
    }
   ],
   "source": [
    "plt.matshow(X_test[0])"
   ]
  },
  {
   "cell_type": "code",
   "execution_count": 17,
   "id": "1dbc8a8a",
   "metadata": {},
   "outputs": [
    {
     "data": {
      "text/plain": [
       "array([2.3036897e-02, 2.9125920e-07, 5.8702946e-02, 9.4936943e-01,\n",
       "       2.4943650e-03, 9.2225432e-02, 9.8654334e-07, 9.9976766e-01,\n",
       "       1.0140303e-01, 6.7622036e-01], dtype=float32)"
      ]
     },
     "execution_count": 17,
     "metadata": {},
     "output_type": "execute_result"
    }
   ],
   "source": [
    "y_predict=model.predict(X_test_flattened)\n",
    "y_predict[0]"
   ]
  },
  {
   "cell_type": "code",
   "execution_count": 18,
   "id": "9aa8af29",
   "metadata": {},
   "outputs": [
    {
     "data": {
      "text/plain": [
       "7"
      ]
     },
     "execution_count": 18,
     "metadata": {},
     "output_type": "execute_result"
    }
   ],
   "source": [
    "np.argmax(y_predict[0])"
   ]
  },
  {
   "cell_type": "code",
   "execution_count": 19,
   "id": "e8ef0490",
   "metadata": {},
   "outputs": [],
   "source": [
    "y_predict_labels=[np.argmax(i) for i in y_predict]"
   ]
  },
  {
   "cell_type": "code",
   "execution_count": 20,
   "id": "683e1300",
   "metadata": {},
   "outputs": [
    {
     "data": {
      "text/plain": [
       "<tf.Tensor: shape=(10, 10), dtype=int32, numpy=\n",
       "array([[ 966,    0,    1,    2,    0,    5,    3,    2,    1,    0],\n",
       "       [   0, 1110,    3,    2,    0,    1,    4,    2,   13,    0],\n",
       "       [   7,    7,  923,   19,    8,    3,   10,   11,   40,    4],\n",
       "       [   3,    0,   17,  919,    1,   25,    1,   10,   26,    8],\n",
       "       [   2,    1,    3,    2,  918,    0,    9,    4,    9,   34],\n",
       "       [  10,    3,    3,   33,    9,  775,   10,    7,   36,    6],\n",
       "       [  13,    3,   10,    1,    8,   16,  900,    2,    5,    0],\n",
       "       [   1,    5,   23,    5,    9,    0,    0,  949,    2,   34],\n",
       "       [   7,    6,    6,   16,    9,   23,    8,   13,  880,    6],\n",
       "       [  11,    7,    1,    9,   26,    5,    0,   19,    9,  922]])>"
      ]
     },
     "execution_count": 20,
     "metadata": {},
     "output_type": "execute_result"
    }
   ],
   "source": [
    "cm=tf.math.confusion_matrix(labels=y_test,predictions=y_predict_labels)\n",
    "cm"
   ]
  },
  {
   "cell_type": "code",
   "execution_count": 21,
   "id": "8cdbebf4",
   "metadata": {},
   "outputs": [
    {
     "data": {
      "text/plain": [
       "Text(69.0, 0.5, 'Truth')"
      ]
     },
     "execution_count": 21,
     "metadata": {},
     "output_type": "execute_result"
    },
    {
     "data": {
      "image/png": "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\n",
      "text/plain": [
       "<Figure size 720x504 with 2 Axes>"
      ]
     },
     "metadata": {
      "needs_background": "light"
     },
     "output_type": "display_data"
    }
   ],
   "source": [
    "import seaborn as sns\n",
    "plt.figure(figsize=(10,7))\n",
    "sns.heatmap(cm,annot=True,fmt='d')\n",
    "plt.xlabel('Predicted')\n",
    "plt.ylabel('Truth')"
   ]
  },
  {
   "cell_type": "code",
   "execution_count": 24,
   "id": "c01d5313",
   "metadata": {},
   "outputs": [
    {
     "name": "stdout",
     "output_type": "stream",
     "text": [
      "Epoch 1/5\n",
      "1875/1875 [==============================] - 2s 1ms/step - loss: 0.2767 - accuracy: 0.9218\n",
      "Epoch 2/5\n",
      "1875/1875 [==============================] - 2s 834us/step - loss: 0.1269 - accuracy: 0.9632\n",
      "Epoch 3/5\n",
      "1875/1875 [==============================] - 2s 808us/step - loss: 0.0884 - accuracy: 0.9733\n",
      "Epoch 4/5\n",
      "1875/1875 [==============================] - 2s 849us/step - loss: 0.0666 - accuracy: 0.9804\n",
      "Epoch 5/5\n",
      "1875/1875 [==============================] - 2s 824us/step - loss: 0.0544 - accuracy: 0.9835\n"
     ]
    },
    {
     "data": {
      "text/plain": [
       "<keras.callbacks.History at 0x255dfd0c970>"
      ]
     },
     "execution_count": 24,
     "metadata": {},
     "output_type": "execute_result"
    }
   ],
   "source": [
    "model=keras.Sequential([\n",
    "    keras.layers.Dense(100,input_shape=(784,),activation='relu'),\n",
    "    keras.layers.Dense(10,activation='sigmoid')\n",
    "])\n",
    "\n",
    "model.compile(optimizer='adam',loss='sparse_categorical_crossentropy',metrics=['accuracy'])\n",
    "\n",
    "model.fit(X_train_flattened,y_train,epochs=5)"
   ]
  },
  {
   "cell_type": "code",
   "execution_count": 25,
   "id": "59148bf0",
   "metadata": {},
   "outputs": [
    {
     "name": "stdout",
     "output_type": "stream",
     "text": [
      "313/313 [==============================] - 0s 679us/step - loss: 0.0858 - accuracy: 0.9740\n"
     ]
    },
    {
     "data": {
      "text/plain": [
       "[0.08575104176998138, 0.9739999771118164]"
      ]
     },
     "execution_count": 25,
     "metadata": {},
     "output_type": "execute_result"
    }
   ],
   "source": [
    "model.evaluate(X_test_flattened,y_test)"
   ]
  },
  {
   "cell_type": "code",
   "execution_count": 26,
   "id": "f53addea",
   "metadata": {},
   "outputs": [
    {
     "data": {
      "text/plain": [
       "array([7.3630214e-03, 2.7224422e-04, 6.1898983e-01, 9.3783301e-01,\n",
       "       3.9875981e-06, 6.0701370e-03, 9.6337205e-09, 9.9999702e-01,\n",
       "       3.5152495e-02, 5.7339644e-01], dtype=float32)"
      ]
     },
     "execution_count": 26,
     "metadata": {},
     "output_type": "execute_result"
    }
   ],
   "source": [
    "y_predicted=model.predict(X_test_flattened)\n",
    "y_predicted[0]"
   ]
  },
  {
   "cell_type": "code",
   "execution_count": 29,
   "id": "14c2ef7c",
   "metadata": {},
   "outputs": [],
   "source": [
    "y_predicted_labels=[np.argmax(i) for i in y_predicted]"
   ]
  },
  {
   "cell_type": "code",
   "execution_count": 30,
   "id": "bedd2b87",
   "metadata": {},
   "outputs": [
    {
     "data": {
      "text/plain": [
       "<tf.Tensor: shape=(10, 10), dtype=int32, numpy=\n",
       "array([[ 969,    0,    3,    0,    1,    0,    3,    2,    2,    0],\n",
       "       [   0, 1117,    3,    3,    0,    0,    2,    2,    8,    0],\n",
       "       [   7,    1,  997,    1,    3,    0,    3,    5,   15,    0],\n",
       "       [   0,    0,    3,  984,    0,    2,    0,    6,    8,    7],\n",
       "       [   1,    0,    3,    0,  962,    0,    3,    2,    3,    8],\n",
       "       [   4,    3,    0,   13,    2,  845,    7,    2,   13,    3],\n",
       "       [   5,    2,    0,    1,    5,    3,  939,    0,    3,    0],\n",
       "       [   1,    3,    9,    2,    0,    0,    0, 1006,    3,    4],\n",
       "       [   6,    0,    1,    0,    3,    0,    3,    4,  954,    3],\n",
       "       [   2,    3,    0,    6,   12,    1,    0,   11,    7,  967]])>"
      ]
     },
     "execution_count": 30,
     "metadata": {},
     "output_type": "execute_result"
    }
   ],
   "source": [
    "cm=tf.math.confusion_matrix(labels=y_test,predictions=y_predicted_labels)\n",
    "cm"
   ]
  },
  {
   "cell_type": "code",
   "execution_count": 31,
   "id": "9329591d",
   "metadata": {},
   "outputs": [
    {
     "data": {
      "text/plain": [
       "Text(69.0, 0.5, 'Truth')"
      ]
     },
     "execution_count": 31,
     "metadata": {},
     "output_type": "execute_result"
    },
    {
     "data": {
      "image/png": "iVBORw0KGgoAAAANSUhEUgAAAjsAAAGpCAYAAABrkPeOAAAAOXRFWHRTb2Z0d2FyZQBNYXRwbG90bGliIHZlcnNpb24zLjMuNCwgaHR0cHM6Ly9tYXRwbG90bGliLm9yZy8QVMy6AAAACXBIWXMAAAsTAAALEwEAmpwYAABahUlEQVR4nO3deXxU1f3/8ddnkkAImyIKJCCgiAtuSMANEQEBLYorasWvtfq1VdzqbtXyw9bWfqsVbbUKCu4sIqDIKiAiVkkCCXvYERMCiKwJKEnm/P7IEKOSDWZy52beTx/3wcyduXPfOZ6ZOXPOufeacw4RERGR2irgdQARERGRSFJjR0RERGo1NXZERESkVlNjR0RERGo1NXZERESkVov3OkB59s142VeHiTXs97TXEURExOeK9udaTe6vcNu6sH3XJjQ9rkazV4d6dkRERKRWi9qeHREREYmwYLHXCWqEenZERESkVlPPjoiISKxyQa8T1Ag1dkRERGJVMDYaOxrGEhERkVpNPTsiIiIxymkYS0RERGo1DWOJiIiI+J96dkRERGKVhrFERESkVtNJBUVERET8Tz07IiIisUrDWCIiIlKr6Wgs/3p3TiZX//Udrnr6bd75NLN0/ajPsuj/5ze56um3eX7iPAAKi4r50zszuOav7zDgb++SvjrHq9gH1ad3d5YtnUv28nk8/NAgr+NUqG7dunz5xccsyPiERVmzGfynB7yOVCV+KmOA4cOeY1POIrIyZ3kdpcr8VsZ+rMstWyYzc8b7LFk8h0VZs7n7rlu9jlQhv+U9wG91WUqYc87rDAe1b8bLhxRszaZtPPLGNN558DoS4uIY9PJE/njdRWzdmc9r09P51+8vp05CPNv37KVJwyRGz13E8o1beGpgb7bv2cug/3zIuw9eTyBg1dpvw35PH0rcCgUCAVYs+5y+l95ATk4eX305hYE33cmKFavDvq9wqV8/iYKCvcTHxzN3zgT+cP9g5qct9DpWufxYxhd0PZv8/AJGjnyBMzv29DpOpfxYxuC/uty8+TG0aH4MmVlLadCgPmnzp3H1Nb+N2nL2W16ombpctD+3el8+h+mHtV+FrRFQ9/hzajR7ddS6np11W3Zwepvm1KuTQHxcgE4npDB78VrGzlvCLRenUiehZOSuScOkkudv3s7ZJx5buq5hvTos27jFs/xldenckbVrN7B+/UYKCwsZO/ZDLr+sj9exKlRQsBeAhIR44hMSiNbG9AF+LOPP581n+46dXseoMj+WMfivLm/evJXMrKUA5OcXkJ29mpTk5h6nKp/f8oJ/63KFgsHwLVEsYo0dMzvJzB4xsxfN7IXQ7ZMjtb8D2rU4igVrctlZsI99+wuZt2wDW3bk8/XWHSxcm8vAZ0dz6wvjWPr1ZgDapzTl08VrKSoOkrttF8u/2cqWnXsiHbNKklOa803OptL7Obl5JEf5h0EgECAjfQZ5uYuZNWsuaemZlW/kIT+Wsd/4tYz9VpfLat26JWeecSrz0/yR2S95/VqXJUKNHTN7BBgNGJAGpIdujzKzRyvY7nYzyzCzjNenzDukfR/XvAm3XNyJ3/97AoNenkj7lKbEBYzioGPPvh94+4HruK9/Vx4eMRXnHFec04FmRzTg1/8YxT/Gz+WMti2IC0RHh5fZL3sEo/3XZTAYJLVzb1q3TaVzakc6dDjR60gV8mMZ+41fy9hvdfmA+vWTGDtmOPc/OJg9e/K9jlMpP+X1a12ukAuGb4likToa61agg3OusOxKM/snsAx45mAbOeeGAcPg0OfsAFx57qlcee6pALz40Rc0O6IB67fsoMcZ7TAzTmvTnEDA2JG/jyYNk3jo6gtLt/2ff47l2KOPONRdh1VuTh6tWiaX3m+Z0oK8vOgYYqvMrl27+Wzuf0sm8y1b6XWccvm5jP3C72Xsl7oMEB8fz/tjhjNq1AQmTpzqdZxK+S2v3+vyQemkgoclCCQfZH2L0GMRtX1PyVh73vbdzF60lktST+Si048jfdU3AHy9dQeFRcUc2aAe+/YXsu+HkjbZl9lfEx8wjm9xVKQjVkl6Rhbt2rWlTZtWJCQkMGBAfyZ9PMPrWOVq2rQJjRs3AiAxMZGePS5g5cq1HqeqmN/K2I/8WMZ+rMtQcqTeiuw1DH1hmNdRqsRvef1Yl6VEpHp27gNmmdlq4JvQumOBdsBdEdpnqQdem8yuvd8THwjw2IDuNEpK5IpzOjD43U+4+q/vkBAX4M8De2NmbN+zjztfnkDAjGMaN+Av/xM9k82Ki4u5974nmDL5PeICAd54cwzLl6/yOla5WrRoxojXhxIXFyAQCDBu3CQmT5npdawK+a2MAd55+yUu7HYuTZs2YcO6DIY89Swj3xjtdaxy+bGM/ViXzz+vMzcNvIbFS5aTkV7yBfzkk88wddpsj5MdnN/ygj/rcqWifPgpXCJ26LmZBYAuQAol83VygHTnXJX6zA5nGMsLkTj0XEREYkuNH3q+bFb4Dj3v0DNqDz2P2BmUnXNB4KtIvb6IiIhIVehyESIiIrEqRoax1NgRERGJVVF+MsBwiY4TyoiIiIhEiHp2REREYlQVjxnyPTV2REREYlWMzNnRMJaIiIjUaurZERERiVUxMkFZjR0REZFYFSPDWGrsiIiIxCpdCFRERETE/9SzIyIiEqs0jCUiIiK1WoxMUNYwloiIiEScmY0ws61mtrTMuiZm9omZrQ79e2SZxx4zszVmttLM+pRZ38nMloQee9HMKr3aujkXtqu7h1V8nZToDFaOfZs+9zpCtdVLvsDrCCLiE5V+m0QZX32BlFG0P7dGi/r7L0eFragSz72hwuxm1g3IB95yzp0aWvd/wHbn3DNm9ihwpHPuETM7BRgFdAGSgZlAe+dcsZmlAfcCXwFTgBedc1Mr2rd6dkRERGJVMBi+pRLOubnA9p+t7g+8Gbr9JnBFmfWjnXM/OOfWA2uALmbWAmjknPvSlfTWvFVmm3KpsSMiIiKHzcxuN7OMMsvtVdismXMuDyD07zGh9SnAN2WelxNalxK6/fP1FdIEZRERkVgVxgnKzrlhwLAwvdzBhsRcBesrpMaOiIhIjIqCq55vMbMWzrm80BDV1tD6HKBVmee1BDaF1rc8yPoKaRhLREREvPIRcHPo9s3Ah2XWX29mdc2sLXACkBYa6tpjZueEjsL6nzLblEs9OyIiIrGqBs+zY2ajgO5AUzPLAQYDzwBjzexWYCNwLYBzbpmZjQWWA0XAIPdjN9QdwBtAPWBqaKmQGjsiIiKxqgbPoOycu6Gch3qW8/yngacPsj4DOLU6+9YwloiIiNRq6tkRERGJVTFyuQg1dkRERGJVjFwIVMNYIiIiUqupZ0dERCRWaRhLREREajUNY4mIiIj4X0w1dvr07s6ypXPJXj6Phx8a5GmWJ/76T7r96nquGPj70nXTZ39O/xt/x2ldL2XpilWl63fu2s0tdz1C515X8vRzL5euLyjYy9U3Dypdul56Hc8MfaVG/46y6taty5dffMyCjE9YlDWbwX96wLMsVeXHzBBddbkq/Ja3ZctkZs54nyWL57AoazZ333Wr15Eq5cfM997zv2RlzSYzcxZvv/0SdevW9TpSpfxWlytVg1c995KVXCE9+sTXSQlrsEAgwIpln9P30hvIycnjqy+nMPCmO1mxYnVYXn/fps+r9fyMrCUk1avHH//8LBPfKWmgrN2wkYAFGPKPF3lw0G2cenJ7APbu+57sVWtYve5r1qz7mscfuPOgrzngt3fz8D23k3rmaVXKUC/5gmplror69ZMoKNhLfHw8c+dM4A/3D2Z+2sKw7yec/JY50nU53PyWF6B582No0fwYMrOW0qBBfdLmT+Pqa34b05kPdvXFw5Gc3Jw5n07g9DMu4vvvv+e9915h2tTZvPX22LC8fiS+2WqiLhftzw13UVdo3+ShYSuqer+6r0azV0fM9Ox06dyRtWs3sH79RgoLCxk79kMuv6yPZ3lSzzyNxo0a/mTd8W2OpW3rlr94blK9RM4641Tq1qlT7ut9/U0u3+3YSaczqnVSybArKNgLQEJCPPEJCURrY7osv2WOtrpcGb/lBdi8eSuZWUsByM8vIDt7NSnJzT1OVTE/Zo6Pj6devUTi4uJIqlePTXmbvY5UIT/WZSkRM42d5JTmfJPz44VRc3LzSI7yD4LqmPLJHPr27EbJddG8EwgEyEifQV7uYmbNmktaeqanearCb5n9Vpf9lvfnWrduyZlnnMr8tOiuF2X5IfOmTZt5/vlXWLc2jW82ZrJ7925mzpzrdawK+b0uH5QLhm+JYjXe2DGzWyp47HYzyzCzjGCwINz7/cW6aP8FXx1TZ33Gpb26ex2DYDBIaufetG6bSufUjnTocKLXkSrlt8x+q8t+y1tW/fpJjB0znPsfHMyePflex6kSv2Q+4ojGXHZZH05ofw7Htj6LpPpJ/PrXV3kdq0J+rsvlipE5O1707Awp7wHn3DDnXKpzLjUQqB/Wnebm5NGqZXLp/ZYpLcjL2xLWfXgle/U6iouDdDjpBK+jlNq1azefzf0vfXp39zpKlfkls9/qst/yHhAfH8/7Y4YzatQEJk6s9KLKUcFPmXv2vIANGzaybdt2ioqKmDhxKueek+p1rAr5tS5LhBo7Zra4nGUJ0CwS+6xMekYW7dq1pU2bViQkJDBgQH8mfTzDiyhhN3XmHC7pdaHXMWjatAmNGzcCIDExkZ49LmDlyrUep6qYHzP7rS77Le8Bw4c9x4rsNQx9YZjXUarMT5m/2ZhLl7PPol69RAB6XNSV7OzonQAO/q3LFYqRYaxInVSwGdAH2PGz9Qb8N0L7rFBxcTH33vcEUya/R1wgwBtvjmH58lWVbxghDw1+hvTMxezcuZueVwzkzltvonGjBvzt+f+wfecu7nxoMCedcBzDni+5un3vq28mv2AvhUVFzP78vwx7/mmOb9saKDlk/eVnn/LsbzmgRYtmjHh9KHFxAQKBAOPGTWLylJlex6qQHzNHW12ujN/yApx/XmduGngNi5csJyO95MvsySefYeq02R4nK5/fMqelZzJ+/GTS0qZTVFTEoqxlDH/tXa9jVciPdblSUT78FC4ROfTczF4HRjrn5h3ksfecc7+u7DXCfeh5pFX30PNoEIlDz0WkdoraY4rL4asvkDJq/NDzCc+E79DzKx+N2moSkZ4d51y5Z7OqSkNHREREakCUDz+Fi66NJSIiEqtiZBgrZs6zIyIiIrFJPTsiIiKxKkZ6dtTYERERiVV+PyliFWkYS0RERGo19eyIiIjEKg1jiYiISK0WI40dDWOJiIhIraaeHRERkVilkwqKiIhIraZhLBERERH/U8+OiIhIrIqR8+yosSMiIhKrYmQYK2obO1F7nfhy1Eu+wOsI1ZY/6xmvI1Rbg56Peh1B5LD57fMNIBDw16yH4hj5EpeqidrGjoiIiERYjDQK1dgRERGJVTFy6Lm/+iVFREREqkk9OyIiIjHKBXU0loiIiNRmMTJnR8NYIiIiUqupZ0dERCRWxcgEZTV2REREYlWMzNnRMJaIiIjUaurZERERiVUxMkFZjR0REZFYpcaOiIiI1GoxctVzzdkRERGRWk09OyIiIrEqRoaxYqZnp33748lIn1G6fLctm3vuvs3rWBUaPuw5NuUsIitzltdRfuHdmWlc9adXufJPr/DOJ/MBWPnNFm7660iuHvwqd784hvx9PwAw+aslDBgyvHQ583//QvbGzV7GLxXNZVyeunXr8uUXH7Mg4xMWZc1m8J8e8DpSpfr07s6ypXPJXj6Phx8a5HWcSvmxjAFWr/qKzIUzyUifwVdfTvE6zi+8+uqzfLMxk4ULZpaue+KJP7BubTpp86eRNn8afftc5GHCyvmtLlcq6MK3RDFzUTpel1AnJWLBAoEAX29YwPld+7FxY25YXjMSYS/oejb5+QWMHPkCZ3bsGfbXz5/1zCFttzp3K4+8OoF3H/8tCfFx3Dn0PR4feCmPDZ/A/df2IvXE1kyYl0Xutp3cdUX3n26bs5V7/z2WKc/cdUj7btDz0UParjyRLuNIqV8/iYKCvcTHxzN3zgT+cP9g5qct9DrWQQUCAVYs+5y+l95ATk4eX305hYE33cmKFau9jlahSJaxheVVfmn1qq8459xL+O67HWF/7UDg8H8bdw2930a8PpSzOvUCSho7Bfl7eX7oq4f9+mUVR6DHoibqctH+3EhVj4Pa++xtYfv6SnrwtRrNXh0x07NTVo8eXVm37uuwNXQi5fN589m+Y6fXMX5hfd42Tj8uhXp1E4iPC9CpfWtmL8xmw+bv6NT+WADOPaUtsxZk/2LbqWlLuaRLh5qOXK5oLePKFBTsBSAhIZ74hASi9UcLQJfOHVm7dgPr12+ksLCQsWM/5PLL+ngdq1J+KmO/mDdvPjt8+H47wK91uUIuGL4likWssWNmJ5lZTzNr8LP1fSO1z6q6bkB/xoyZ6HUM32qXfAwLVm9kZ/5e9v1QyLwla9i8YzftUo5hTtYqAGZkrGDz9t2/2HZ6+nL6nh09jR2/CgQCZKTPIC93MbNmzSUtPdPrSOVKTmnONzmbSu/n5OaRnNzcw0RV46cyPsA5x9Qpo5j/1VRuu/VGr+NU2e/vuJmM9Bm8+uqzHHFEY6/jlMuvdblCMTKMFZHGjpndA3wI3A0sNbP+ZR7+awXb3W5mGWaWEQwWRCIaCQkJ9OvXm3EffByR148FxyU35Za+5/K7f77HnUPfo32rZsQHAgz5TT9Gf5rB9U+9xt7v95MQH/eT7RavyyWxTgInpBzjUfLaIxgMktq5N63bptI5tSMdOpzodaRymf2yZ9sPvSR+KuMDLux+BV3O7ku/ywZyxx2/oWvXs72OVKlhw97m5JO70rlLHzZv3srf//6k15HK5de6LJE7Gut/gU7OuXwzawOMM7M2zrkXqGC42jk3DBgGkZuz07fvRWRmLmHr1m2RePmYcdUFHbnqgo4AvDh+Ns2ObETbFk159f6SX5MbNn/H3MVrfrLN9LRlUTWEVRvs2rWbz+b+t2TS5LKVXsc5qNycPFq1TC693zKlBXl5WzxMVD1+KOMDDpTrt99+x8QPp9K585nMmzff41QVK/tZPGLEe0wY/4Z3YSrh97p8ME5HYx2WOOdcPoBzbgPQHbjEzP5J5ObmVcl1112hIaww+G53Sc9b3ne7mLVwJZd06VC6Lhh0DJ88j2u7n1X6/GDQMWPBCvqqsXPYmjZtQuPGjQBITEykZ48LWLlyrcepypeekUW7dm1p06YVCQkJDBjQn0kfz/A6VoX8VsYASUn1aNCgfunti3tdGPWNM4DmzX/s6e1/ed+ozuzHulypGBnGilTPzmYzO9M5lwUQ6uHpB4wATovQPitVr14ivXp24847H/EqQrW88/ZLXNjtXJo2bcKGdRkMeepZRr4x2utYADzwn3Hsyt9HfFyAP97Yl0b16/HuzDRGf5oBQM+OJ3HF+WeUPn/Bqq9pdmQjWh59pFeRDyqay7g8LVo0Y8TrQ4mLCxAIBBg3bhKTp8ysfEOPFBcXc+99TzBl8nvEBQK88eYYli9f5XWsCvmtjAGaNTuace+/DkBcfByjR09kxow53ob6mbfe+jfdLjiHpk2bsHZNGn/+y3N063YuZ5zeAeccX3+dw6C7wnvEZTj5sS5LiYgcem5mLYEi59wvTqZiZuc7576o7DUieeh5JPgqbMihHnrupXAfei7ihag9PrcC4Tj0vCZF4tDzmlDTh54X/GVg2L6+6j/xTtRW7Yj07Djncip4rNKGjoiIiNSAKB9+Chd/NdVFREREqknXxhIREYlVPh3uqy41dkRERGKVhrFERERE/E+NHRERkVhVg9fGMrM/mNkyM1tqZqPMLNHMmpjZJ2a2OvTvkWWe/5iZrTGzlWZ2WBchU2NHREQkVtXQSQXNLAW4B0h1zp0KxAHXA48Cs5xzJwCzQvcxs1NCj3cA+gIvm1ncwV67KtTYERERkZoQD9Qzs3ggCdgE9AfeDD3+JnBF6HZ/YLRz7gfn3HpgDdDlUHesxo6IiEiMcsFg2JayF/MOLbeX7se5XOBZYCOQB+xyzs0Amjnn8kLPyQMOXD8kBfimTNSc0LpDoqOxREREYlUYj8YqezHvnwvNxekPtAV2Au+b2cAKXu5gZ2M+5LDq2REREZFI6wWsd85965wrBMYD5wFbzKwFQOjfraHn5wCtymzfkpJhr0Oixo6IiEisqrmrnm8EzjGzJDMzoCewAvgIuDn0nJuBD0O3PwKuN7O6ZtYWOAFIO9Q/U8NYIiIisaoKh4yHZTfOzTezccBCoAjIpGTIqwEw1sxupaRBdG3o+cvMbCywPPT8Qc654kPdvxo7IiIiEnHOucHA4J+t/oGSXp6DPf9p4Olw7DtqGzuxcQJrbzXo+ajXEaptz/QhXkeoloZ9fv6+FvGnoM+uoXSw2a1yEDFyuYiobeyIiIhIZLkYaexogrKIiIjUaurZERERiVUx0rOjxo6IiEis8tlcrEOlYSwRERGp1dSzIyIiEqs0jCUiIiK1Wow0djSMJSIiIrWaenZERERilHOx0bOjxo6IiEis0jCWiIiIiP+pZ0dERCRWxUjPjho7IiIiMUrXxhIRERGpBWKqsdOnd3eWLZ1L9vJ5PPzQIK/jVImfMtetW5cvv/iYBRmfsChrNoP/9IDXkX7i3VkLuPqpkVw1ZATvzMoAIPubLdz093cY8Jc3+PVf32LJ+ryfbJO3fTfn3juUN2ekeRG5XH6qFy1bJjNzxvssWTyHRVmzufuuW72OVCV+KuMDGjduxOjRw1iy5DMWL57DOWd38jpShe6953/JyppNZuYs3n77JerWret1pAq1b388GekzSpfvtmVzz923eR3r8ARd+JYoFjONnUAgwIsvPE2/ywZy2hkXcd11V3DyySd4HatCfsv8ww8/0Kv3ADqlXkyn1N706d2ds7uc5XUsANbkfsv4LxbzzqMDGfvEb/h8yVq+3rKDoeM/43e/Oo+xT/yGOy7rytDxn/1ku2ffn835Hdp6lPrg/FYvioqKeOjhIZx2enfO73oZd9zxm6jOC/4r4wOe/+dTzJj+KaeddiGdOl3MiuzVXkcqV3JycwYN+i3nnHMpHTv2JC4ujusG9Pc6VoVWrVpLaufepHbuTZez+7J37z4mfjjV61iHJxjGJYrFTGOnS+eOrF27gfXrN1JYWMjYsR9y+WV9vI5VIT9mLijYC0BCQjzxCQlRcw6HdZu3c3rbFtSrk0B8XIBOJ7RidtYqzIyC7/cDkP/9Dxx9RIPSbWZnrSal6REc36KpV7EPym/1YvPmrWRmLQUgP7+A7OzVpCQ39zhVxfxWxgANGzaga9ezGTFyFACFhYXs2rXb41QVi4+Pp169ROLi4kiqV49NeZu9jlRlPXp0Zd26r9m4MdfrKFIFEWvsmFkXM+scun2Kmd1vZpdGan+VSU5pzjc5m0rv5+TmkRzlH7h+zBwIBMhIn0Fe7mJmzZpLWnqm15EAaJfclAWrc9iZv499+wuZt3QdW3bs4aFre/D8B3Po89gr/HPcHO654gIA9v2wnzemz+f3vzrP4+S/5Md6cUDr1i0584xTmZ8WHfWiPH4s4+OOa822bd/x+mvPk542nVdf+QdJSfW8jlWuTZs28/zzr7BubRrfbMxk9+7dzJw51+tYVXbdgP6MGTPR6xiHzQVd2JZoFpHGjpkNBl4E/mNmfwP+DTQAHjWzxyvY7nYzyzCzjGCwINyZfrEuWnodyuPHzMFgkNTOvWndNpXOqR3p0OFEryMBcFyLo7ilTxd+/8JYBr04jvYtjyEuEOD9uVk8eO1FTP/b73nw2osY8vY0AP4z6Qtu7JlKUmIdj5P/kh/rBUD9+kmMHTOc+x8czJ49+V7HqZAfyzg+Lo6OHU/j1VffonOXPhQU7OXhh+/yOla5jjiiMZdd1ocT2p/Dsa3PIql+Er/+9VVex6qShIQE+vXrzbgPPvY6yuHTnJ3Dcg1wPtANGARc4Zx7CugDXFfeRs65Yc65VOdcaiBQP6yBcnPyaNUyufR+y5QW5OVtCes+ws2PmQ/YtWs3n839L316d/c6Sqkrzz+d0Y/fzIgHb6BR/USOPeZIJn25lJ4d2wPQu9OJLN1Q0o2+ZEMeQ8d/xiV/fJV3Zy/g9WnzGf3pQi/jl/JjvYiPj+f9McMZNWoCEydG/xwHP5ZxTm4eOTl5pb2pH4yfTMczT/M4Vfl69ryADRs2sm3bdoqKipg4cSrnnpPqdawq6dv3IjIzl7B16zavo0gVRaqxU+ScK3bO7QXWOud2Azjn9uHRNKb0jCzatWtLmzatSEhIYMCA/kz6eIYXUarMb5mbNm1C48aNAEhMTKRnjwtYuXKtx6l+tH13SW9h3vbdzM5czSWdT+boIxqQseobANJWbuTYY44EYOSDv2bqX3/H1L/+jht7dOLWvmdz/UXRMdnab/UCYPiw51iRvYahLwzzOkqV+LGMt2z5lpycTbRvfzxQMqdkxYpVHqcq3zcbc+ly9lnUq5cIQI+LupIdxROqy7ruuitqxRAWEDMTlCN1UsH9ZpYUauyUHvtoZo3xqEiKi4u5974nmDL5PeICAd54cwzLl0fvBwH4L3OLFs0Y8fpQ4uICBAIBxo2bxOQpM72OVeqBYR+yK/974uMCPHZDLxrVT+RPA/vwf2NnU1wcpE5CPE/e2NvrmJXyW704/7zO3DTwGhYvWU5GekmD4cknn2HqtNkeJyuf38r4gPv+8CRvvfkv6tRJYN36jdx22/1eRypXWnom48dPJi1tOkVFRSzKWsbw1971Olal6tVLpFfPbtx55yNeRwmLaJ9rEy4WiXFoM6vrnPvhIOubAi2cc0sqe434Oimx8X9AqmXP9CFeR6iWhn0Gex1BotAvZwSJlCjcn1uj1WPHtd3D9l175PtzorZqR6Rn52ANndD6bYAGOUVERKJBlA8/hYuujSUiIhKjYmUYK2ZOKigiIiKxST07IiIisUrDWCIiIlKbOTV2REREpFaLkcaO5uyIiIhIraaeHRERkRilYSwRERGp3WKksaNhLBEREanV1LMjIiISozSMJSIiIrVarDR2NIwlIiIitZp6dkRERGJUrPTsqLEjvtKwz2CvI1TLng8f8TpCtTXs/3evI9R6sXHpRW+Z1wH8wsVGSWkYS0RERGo19eyIiIjEKA1jiYiISK3mghrGEhEREfE99eyIiIjEKA1jiYiISK3mdDSWiIiIiP+pZ0dERCRGaRhLREREajUdjSUiIiJSC6hnR0REJEa5GLl2iRo7IiIiMUrDWCIiIiK1gHp2REREYpR6dmqZ4cOeY1POIrIyZ3kdpVr69O7OsqVzyV4+j4cfGuR1nArVrVuXL7/4mAUZn7AoazaD//SA15GqJFrL+N3PFnH1M6O46pn3eGfOotL1o+Yupv/T73LVM+/x/Ef/BeDLld9ww7Njuebvo7jh2bGkrcrxKvZBRWsZl8ePdblly2RmznifJYvnsChrNnffdavXkSrkxzIGuPee/yUrazaZmbN4++2XqFu3rteRDotz4VuimbkoTRhfJyWswS7oejb5+QWMHPkCZ3bsGc6XjphAIMCKZZ/T99IbyMnJ46svpzDwpjtZsWK119HKVb9+EgUFe4mPj2funAn84f7BzE9b6HWsckW6jPd8+Mghbbcm7zseeXMG79x/DQlxcQx6dRJ/vPZCtu7M57VPFvCv2/tRJz6O7Xv20qRhEtk539KkYRLHNK7PmrzvuOOVSXwy5DeHtO+G/f9+SNuVx4/1GPxXl5s3P4YWzY8hM2spDRrUJ23+NK6+5rdRXc6RLONI9FckJzdnzqcTOP2Mi/j+++95771XmDZ1Nm+9PTZs+yjcn1ujXS3rz7g4bN+1bRd9ErXdRDHTs/P5vPls37HT6xjV0qVzR9au3cD69RspLCxk7NgPufyyPl7HqlBBwV4AEhLiiU9IIFob0wdEaxmv27KD09s0o16dBOLjAnQ6PpnZi9cx9oul3NLzLOrExwHQpGESACe1PJpjGtcH4PjmTdhfWMT+omLP8pcVrWVcGb/V5c2bt5KZtRSA/PwCsrNXk5Lc3ONUFfNbGQPEx8dTr14icXFxJNWrx6a8zV5HOiwuaGFbolmNNXbM7K2a2ldtkZzSnG9yNpXez8nNIznKP7wCgQAZ6TPIy13MrFlzSUvP9DpShaK1jNs1b8KCtZvYWfA9+/YXMm/512zZmc/XW3eycN0mBv7zfW791wSWbtzyi21nLlrLSS2PLm0QeS1ay7gyfqvLZbVu3ZIzzziV+WnRndlvZbxp02aef/4V1q1N45uNmezevZuZM+d6HeuwOGdhW6JZRBo7ZvbRz5ZJwFUH7kdin7WR2S8rT7T/8gkGg6R27k3rtql0Tu1Ihw4neh2pQtFaxsc1b8ItPc/i9//5kEGvTKJ9SlPiAgGKg449e3/g7T9cw32Xn8fDb0z/Sd41ed/xwqQveWJAd+/C/0y0lnFl/FaXD6hfP4mxY4Zz/4OD2bMn3+s4FfJbGR9xRGMuu6wPJ7Q/h2Nbn0VS/SR+/eurvI4lVRCpnp2WwG7gn8BzoWVPmdsHZWa3m1mGmWUEgwURiuYfuTl5tGqZXHq/ZUoL8vJ++Us+Gu3atZvP5v6XPr27ex2lQtFcxleecwqjH7yOEfdcRaOkuhx7dGOaHdGAHqcfj5lxWutmBMzYUfA9AFt25nP/iKn8+cZetGra2OP0P4rmMq4Kv9RlKBlieX/McEaNmsDEiVO9jlNlfinjnj0vYMOGjWzbtp2ioiImTpzKueekeh3rsLhg+JZoFqnGTiqwAHgc2OWcmwPsc8595pz7rLyNnHPDnHOpzrnUQKB+hKL5R3pGFu3ataVNm1YkJCQwYEB/Jn08w+tY5WratAmNGzcCIDExkZ49LmDlyrUep6pYNJfx9j0l8xnyduxh9uJ1XHLWCVx0WlvSV5ccafX11p0UFgc5sn4iu/f+wN3DPuaefufS8bgWXsb+hWgu4/L4sS5DyVGnK7LXMPSFYV5HqZQfy/ibjbl0Ofss6tVLBKDHRV3Jzo7eCeBVEXQWtqUyZnaEmY0zs2wzW2Fm55pZEzP7xMxWh/49sszzHzOzNWa20swOa6JfRM6z45wLAs+b2fuhf7dEal9V9c7bL3Fht3Np2rQJG9ZlMOSpZxn5xmgvI1WquLiYe+97gimT3yMuEOCNN8ewfPkqr2OVq0WLZox4fShxcQECgQDjxk1i8pSZXseqUDSX8QMjp7Gr4Hvi4wI8dk03GiUlcsXZJzN41GyufmYUCfEB/vzrnpgZY+YtYeO2XQybns6w6ekAvHLH5aUTmL0UzWVcHj/W5fPP68xNA69h8ZLlZKSXNCaffPIZpk6b7XGyg/NjGaelZzJ+/GTS0qZTVFTEoqxlDH/tXa9j+ckLwDTn3DVmVgdIAv4IzHLOPWNmjwKPAo+Y2SnA9UAHIBmYaWbtnXOHdORFjRx6bma/As53zv2xqtuE+9BzES8c6qHnXgr3oeciXoju6bLlq+lDz1eedEnYvmtPzJ5abnYzawQsAo5zZRoeZrYS6O6cyzOzFsAc59yJZvYYgHPub6HnTQf+n3Puy0PJViO9Lc65ycDkmtiXiIiIVE04Dxk3s9uB28usGuacOzCmehzwLTDSzM6gZKrLvUAz51weQKjBc0zo+SnAV2VeKye07pDochEiIiJy2EINm/ImjMUDZwF3O+fmm9kLlAxZledgrbBD7oWKmZMKioiIyE/V4OUicoAc59z80P1xlDR+toSGrwj9u7XM81uV2b4lsIlDpMaOiIhIjKqpMyg75zYD35jZgZMp9QSWAx8BN4fW3Qx8GLr9EXC9mdU1s7bACUDaof6dVRrGMrPzgDZln++c0xmRRUREpKruBt4NHYm1DriFkk6XsWZ2K7ARuBbAObfMzMZS0iAqAgYd6pFYUIXGjpm9DRwPZAEHduQANXZERER8rCrnxwkX51wWJefh+7mDXp3bOfc08HQ49l2Vnp1U4BRXE8eoi4iISI2J9mtahUtV5uwsBaL/qn0iIiIiB1Fuz07o4p0OaAgsN7M04IcDjzvnLo98PBEREYmUWBmzqWgY69kaSyEiIiI1ribn7Hip3MbOgQt2mtnfnXM/Oee9mf0dKPeCniIiIiLRoipzdi4+yLpLwh1EREREapZzFrYlmlU0Z+cO4E7geDNbXOahhsB/Ix1MREREIktzduA9YCrwN356/Yo9zrntEU0lIiIiEiYVzdnZBewys0d+9lADM2vgnNsY2WgivxSw6O4q/bmG/f/udYRq2/10H68jVFvjx6d7HaFa/Phj2m/vvWCsdFkcppifoFzGZEremwYkAm2BlUCHCOYSERGRCIv2uTbhUmljxzl3Wtn7ZnYW8LuIJRIREREJoypdCLQs59xCM+sciTAiIiJSczSMFWJm95e5GwDOAr6NWCIRERGpEbEys6kqPTsNy9wuomQOzweRiSMiIiI1RT07gJnFAQ2ccw/VUB4RERGRsKropILxzrmi0IRkERERqWV0NBakUTI/J8vMPgLeBwoOPOicGx/hbCIiIhJBQa8D1JCqzNlpAnwH9ODH8+04QI0dERERiXoVNXaOCR2JtZQfGzkHxMoEbhERkVrLoWGsOKABHLQk1NgRERHxuWCMfJtX1NjJc849VWNJRERERCKgosZObPRtiYiIxKhgjHzVV9TY6VljKURERKTGxcqcnUB5DzjnttdkkJoSCARIT5vOhxPe9DpKperWrcuXX3zMgoxPWJQ1m8F/esDrSJXq07s7y5bOJXv5PB5+aJDXcQ5q2KvPkvNNFpkLZ5au+3+DH2RBxiekp01n8uR3adGimYcJK9ayZTIzZ7zPksVzWJQ1m7vvutXrSKXiO11M4i1/JvE3T1Gn3+8g7sffU/Gd+5D00Aio1wAAa3QU9e57hcSb/x+JN/8/Ei6+yavYv9C+/fFkpM8oXb7bls09d9/mdawKRXO9OMDv7z0/fiZLCXMuOmcnxddJiUiw++69nU6dTqdRw4b0v/LmSOwirOrXT6KgYC/x8fHMnTOBP9w/mPlpC72OdVCBQIAVyz6n76U3kJOTx1dfTmHgTXeyYsXq8O3DDv9XSNeuZ5OfX8DIEUPpeFYvABo2bMCePfkADBr0W04++QTuuuuxw95XMALvr+bNj6FF82PIzFpKgwb1SZs/jauv+W3Yynn3030OaTtrcAR1b3iM70c+AUWF1LnsDorXLaZ42RdYwyOp0+cWrElzvn/7KdiXjzU6irpX3cv3b/zpsDM3fnz6Yb9GeQKBAF9vWMD5XfuxcWNuWF4zEh9uka4Xeu+ViPRnctH+3Brtavmk2XVhK6iLt4yJ2m6icnt2aqOUlBZceklPRowY5XWUKiso2AtAQkI88QkJRGvjFKBL546sXbuB9es3UlhYyNixH3L5ZYf2xRlJ8+bNZ8eOnT9Zd+DDFqB+Ur2oLufNm7eSmbUUgPz8ArKzV5OS3NzjVCGBOIivAxbAEurgCnYCkHDRDez/7H1vsx2iHj26sm7d12Fr6ERKVNeLEL+/98Bfn8lV4bCwLdGsKicVPGxm1hXoAix1zs2oiX0ezD+fG8Kjj/2Fhg0beBWh2gKBAGnzp9Hu+Db855U3SEvP9DpSuZJTmvNNzqbS+zm5eXTp3NHDRNXz1JCHufHGa9i9ezcX9x7gdZwqad26JWeecSrz07yvFy5/J0Xp06j3u39AUSHFG5YS3LCMuOPPxOXvwH37zS+2scZHk/g/g3H7v6fw8/EEc8PXCxgu1w3oz5gxE72OUS3RVC+qwk/vPT99JsuPItKzY2ZpZW7/L/BvSq6ePtjMHo3EPivzq0t7sXXrNhZmLvFi94csGAyS2rk3rdum0jm1Ix06nOh1pHLZQbq5/fSr50+D/4/j23Vh1KgJ3HnHLV7HqVT9+kmMHTOc+x8c/JNfx56pm0Rcu47sG/YI+/5zPyTUJa7DecSf04/CeRN/8XRXsIt9rz7I928NYf+no0vm+NRJrPncFUhISKBfv96M++Bjr6NUWdTViyrw03vPT5/JVREM4xLNIjWMlVDm9u3Axc65IUBv4MbyNjKz280sw8wygsGC8p52SM47L5XL+vVmzaqvePedl7noovN5840Xw7qPSNq1azefzf0vfXp39zpKuXJz8mjVMrn0fsuUFuTlbfEw0aEZPWYiV155idcxKhQfH8/7Y4YzatQEJk6c6nUcAOJan4LbtQ327YFgMcWrFxJ/6vkEGjcl8TdDSLz9/7CGR5L4P4OhfiMoLoLvS97nbsvXuJ1bCRwZXcMuffteRGbmErZu3eZ1lCqJxnpRHX547x3gh8/kqlBj5zBf18yONLOjKJkE/S2Ac64AKCpvI+fcMOdcqnMuNRCoH9ZAjz/xDG2OS6Vd+3O4ceCdfPrpF9z8m3vCuo9wa9q0CY0bNwIgMTGRnj0uYOXKtR6nKl96Rhbt2rWlTZtWJCQkMGBAfyZ97NmoZbW0a9e29Ha/fr2jupwBhg97jhXZaxj6wjCvo5Rye7YTSD6uZM4OEHfsyRSvWsi+l+/j+2EP8/2wh3F7dvD9W0OgYDfUawih3kBrfDR2ZDOCu7718k/4heuuu8JXQ1jRWC8q46f3nt8+k+VHkZqz0xhYQOiioWbW3Dm32czKu/yEHESLFs0Y8fpQ4uICBAIBxo2bxOQpMyvf0CPFxcXce98TTJn8HnGBAG+8OYbly1d5HesX3n7r33Trdi5NmzZh3dp0nvrzc1zStwft2x9HMOjYuDGHQWE4GiRSzj+vMzcNvIbFS5aTkV7SmHzyyWeYOm22p7mCeesoXpVR0nMTLCa4dSNFiz8r9/lxrdqTcP4VEAyCC1L4yVulPT3RoF69RHr17Maddz7idZQqidZ6UZbf33t++0yuimifWBwuNXrouZklAc2cc+sre26kDj0XfwvH4a81KVKHv0bSoR567qVIHnoeCf6rFXrv1ZSaPvR8UvMbwlZQl20eFbWVpEaOxjrAObcXqLShIyIiIhIuNdrYERERkeiha2OJiIhIrebPwb7qi6kzKIuIiEjsUc+OiIhIjIr28+OEixo7IiIiMSros6PsDpWGsURERKRWU8+OiIhIjIqVCcpq7IiIiMSoWJmzo2EsERERqdXUsyMiIhKjgrExP1mNHRERkVgVK2dQ1jCWiIiI1Grq2REREYlROhrLY37rWIuVCuO1oPNXSfutHgM0eny61xGqbc+Yu72OUC0Nr/uX1xGqzW/vPamaWJmzo2EsERERqdWitmdHREREIitWzrOjxo6IiEiMipXBSQ1jiYiISK2mnh0REZEYFSsTlNXYERERiVGxMmdHw1giIiJSq6lnR0REJEbFSs+OGjsiIiIxysXInB0NY4mIiEitpp4dERGRGKVhLBEREanVYqWxo2EsERERqRFmFmdmmWb2ceh+EzP7xMxWh/49ssxzHzOzNWa20sz6HM5+1dgRERGJUS6MSxXdC6woc/9RYJZz7gRgVug+ZnYKcD3QAegLvGxmcYf0R6LGjoiISMwKWviWyphZS+BXwGtlVvcH3gzdfhO4osz60c65H5xz64E1QJdD/Ttjas7O6lVfkZ+fT3FxkKKiIs4591KvI1WoZctk3hjxAs2aH00wGOS1197lX/9+3etYFerTuzv//OdTxAUCjBg5iv/7x0teR6rQ8GHP8atLe7H1222c2bGn13GqzE91uW7dusyZ/QF16tYlPj6O8eMnM+Sp57yOBcC785YxPn0VzsFVXdozsGsHXpqxkDnLN2JmNGmQyFPXXsAxjZIoLCrmzxP+y/KcbQTMeOiys+l8fAuv/4RSfnvvRXO9qIjfyjnKDAUeBhqWWdfMOZcH4JzLM7NjQutTgK/KPC8ntO6QxFRjB6DXxdfy3Xc7vI5RJUVFRTz08BAys5bSoEF90uZPY+asuaxYsdrraAcVCAR48YWn6XvpDeTk5PHVl1OY9PGMqM0L8NZbY3n55ZGMHPmC11GqzS91+YcffqBX7wEUFOwlPj6euXMmMG3ap8xPW+hprjWbdzA+fRXvDLqMhLgAg0bO4IKTWnJzt1MZ1PssAN77YjnDZmXxxJXn8UH6KgDG/eFKtufvY9DIT3h30GUEAt6fqMSP771orRcV8WM5VyacE5TN7Hbg9jKrhjnnhoUe6wdsdc4tMLPuVXm5g6w75Iu0R2QYy8zONrNGodv1zGyImU0ys7+bWeNI7LM22rx5K5lZSwHIzy8gO3s1KcnNPU5Vvi6dO7J27QbWr99IYWEhY8d+yOWXHdacsoj7fN58tu/Y6XWMWq+gYC8ACQnxxCck4Nwhf2aFzbqtOzm91dHUqxNPfFyATm2bM3vZRhok1il9zr79RaWfuOu27OTsdskANGlQj4aJdViWu82D5L/kx/ceRGe9qIhfy7kiwTAuzrlhzrnUMsuwMrs6H7jczDYAo4EeZvYOsMXMWgCE/t0aen4O0KrM9i2BTYf6d0Zqzs4IYG/o9gtAY+DvoXUjI7TPSjnnmDplFPO/msptt97oVYxD0rp1S84841Tmp2V6HaVcySnN+Sbnx7qYk5tHchQ3zvzMb3U5EAiQkT6DvNzFzJo1l7R07+txu+ZHsmDDFnYWfM++/UXMW5nDlp0FAPxr+gL6/G0MU7LWcsfFJb087Vs04dPlGykqDpK7fQ/Lc78rfb7X/Prei8Z6URG/lnM0cM495pxr6ZxrQ8nE49nOuYHAR8DNoafdDHwYuv0RcL2Z1TWztsAJQNqh7j9Sw1gB51xR6Haqc+6s0O15ZpZV3kZlu8ACcY0JBOqHNdSF3a8gL28LRx99FNOmjiZ75RrmzZsf1n1EQv36SYwdM5z7HxzMnj35Xscpl9kvex2j/ZeaX/mtLgeDQVI796Zx40Z88P7rdOhwIsuWrfQ003HHHMEtF57G71+fTlKdBNq3aEJcaEjq7j6duLtPJ17/dDGjv1zBnRd35IrUE1i/dSe//vckko+ozxmtjy59vtf8+t6LxnpREb+Wc0WiIP0zwFgzuxXYCFwL4JxbZmZjgeVAETDIOVd8qDuJVM/OUjO7JXR7kZmlAphZe6CwvI3KdoGFu6EDkJe3BYBvv/2OiR9OpXPnM8O+j3CLj4/n/THDGTVqAhMnTvU6ToVyc/Jo1TK59H7LlBalZS7h5ce6DLBr124+m/tf+vTu7nUUAK7s3J7R9/RnxO8vpVG9uhzbtNFPHr/kzOOYtXQDAPFxAR667GzG3tufoTf3Ys++/RzbNDpG5f3+3ou2elEev5fzwdTk0VgHOOfmOOf6hW5/55zr6Zw7IfTv9jLPe9o5d7xz7kTn3GF9AUaqsXMbcKGZrQVOAb40s3XA8NBjNS4pqR4NGtQvvX1xrwuj+hfEAcOHPceK7DUMfWFY5U/2WHpGFu3ataVNm1YkJCQwYEB/Jn08w+tYtY7f6nLTpk1o3LikEZGYmEjPHhewcuVaj1OV2J6/D4C8nfnMXvY1l5xxHF9v21X6+GfLN9L26JIGzb79RezbX/Jb7cvVucQHAhzf7Igaz3wwfnzvRXO9KI8fy7ky4ZyzE80iMozlnNsF/MbMGgLHhfaT45zzrAncrNnRjHu/5LDtuPg4Ro+eyIwZc7yKUyXnn9eZmwZew+Ily8lIL3lDPfnkM0ydNtvjZAdXXFzMvfc9wZTJ7xEXCPDGm2NYvnyV17Eq9M7bL3Fht3Np2rQJG9ZlMOSpZxn5xmivY1XIb3W5RYtmjHh9KHFxAQKBAOPGTWLylJlexwLggXc+Zdfe74kPBHis/zk0SqrLkA++YMO2XQTMaHFEAx6/8lygpGF054gZBMw4pnESf7mum8fpf+TH914014vy+LGcpYRF63hjQp2U6AxWDl+FlRoTHTM6qsePdXnPmLu9jlAtDa/7l9cRJEoV7c+t0Y+Nv7UeGLa3/GNfvxO1H3kxd54dERERKRH05c+b6tPlIkRERKRWU8+OiIhIjIr2icXhosaOiIhIjIqNQSwNY4mIiEgtp54dERGRGKVhLBEREanVqnPmYz/TMJaIiIjUaurZERERiVGxcp4dNXZERERiVGw0dTSMJSIiIrWcenZERERilI7GEhERkVpNc3Y8FhvF762A+e+Yw6DzV83wV1r/8ttVxPM/e9brCNXW4MIHvY4gcsiitrEjIiIikRUrP8jU2BEREYlRsTJnR0djiYiISK2mnh0REZEYpQnKIiIiUqvFRlNHw1giIiJSy6lnR0REJEbFygRlNXZERERilIuRgSwNY4mIiEitpp4dERGRGKVhLBEREanVYuXQcw1jiYiISK2mnh0REZEYFRv9OmrsiIiIxCwNY4mIiIjUAjHT2Bk+7Dk25SwiK3OW11GqrG7dunz5xccsyPiERVmzGfynB7yOVKm77rqVzIUzycqcxd133+p1nEq1bJnMzBnvs2TxHBZlzebuu6I/M0Cf3t1ZtnQu2cvn8fBDg7yOUym/5YXoyfyn1yfS/e7/46rHXypdtyt/L7/7x1tc9siL/O4fb7G7YF/pY69//Dn9Hn6Byx/9F18sWVO6vrCoiKdGfsRlj7xI/0f/xcz05TX6d/ycHz/fDggEAqSnTefDCW96HeWwBcO4RLOYaey89dZYftXvRq9jVMsPP/xAr94D6JR6MZ1Se9Ond3fO7nKW17HK1eGUE7n1tzdw3vn96JTam0sv7UW7dm29jlWhoqIiHnp4CKed3p3zu17GHXf8hpNPPsHrWBUKBAK8+MLT9LtsIKedcRHXXXdFVGf2W16Irsz9u57Jfx4Y+JN1IybPo8vJbZn093vocnJbXp88D4C1uVuZNn8p458exMsPDOSvb02mOFjyNTR80uc0aVSfSX+/hwl/HUSnk1rX+N9Slt8+38q65+7byM5e7XWMsHBh/C+aRaSxY2b3mFmrSLz2ofp83ny279jpdYxqKyjYC0BCQjzxCQk4F70V6qST2jF/fib79n1PcXExn8/9iv79+3odq0KbN28lM2spAPn5BWRnryYlubnHqSrWpXNH1q7dwPr1GyksLGTs2A+5/LI+Xscql9/yQnRl7nRiGxrVr/eTdZ9mruTyrmcCcHnXM/l0YTYAczJX0vfsU6mTEE/Lo4+kVbMmLF2XC8DEzzP5bb8LgJLG3JEN69fcH1EOP32+HZCS0oJLL+nJiBGjvI4i1RCpnp0/A/PN7HMzu9PMjo7Qfmq9QCBARvoM8nIXM2vWXNLSM72OVK5ly1dywQVn06TJEdSrl0jfvj1o2TLZ61hV1rp1S84841Tmp0VvGQMkpzTnm5xNpfdzcvNIjuIGmt/yQvRn3r4rn6OPaAjA0Uc0ZPvuAgC27NhNsyaNSp/X7MhGbN2xu3SY66Xxs7lu8Cs8+O+xfLcrv+aD/4yfPt8O+OdzQ3j0sb8QDEb7wE3VaBjr8KwDWlLS6OkELDezaWZ2s5k1LG8jM7vdzDLMLCMYLIhQNH8JBoOkdu5N67apdE7tSIcOJ3odqVzZ2Wv4x7MvM3XKKD6e9A6LlyynqKjI61hVUr9+EmPHDOf+BwezZ4/3XwIVMbNfrIvmX8R+ywv+zAwc9DhiwygOBtmyfTcd2x3LmCG/5/R2LXlu9Iyaz/czfvp8A/jVpb3YunUbCzOXeB0lbDSMdXiccy7onJvhnLsVSAZeBvpS0hAqb6NhzrlU51xqIOB9F2s02bVrN5/N/S99enf3OkqF3nhjNGefcwk9e13Dju07WbNmvdeRKhUfH8/7Y4YzatQEJk6c6nWcSuXm5NGqTI9Zy5QW5OVt8TBRxfyWF6I/c5PGDfh25x4Avt25hyaNSj4vmzVpxJbtu0uft2XHbo4+siFHNEgisU4CPTqdBEDvzh1Y8XVezQcvh18+3847L5XL+vVmzaqvePedl7noovN5840XvY4lVRCpxs5PfhY55wqdcx85524Ajo3QPmudpk2b0LhxSZd0YmIiPXtcwMqVaz1OVbGjjz4KgFatkrniiksYM+ZDjxNVbviw51iRvYahLwzzOkqVpGdk0a5dW9q0aUVCQgIDBvRn0sfe/0ovj9/yQvRn7n7miXw0LwuAj+ZlcVHHkh6RCzueyLT5S9lfWETOtzvYuOU7Tj0uBTPjwjPbk569AYD5y9dxfLK3swv8+Pn2+BPP0Oa4VNq1P4cbB97Jp59+wc2/ucfrWIclVoaxInVSwevKe8A5t6+8xyLpnbdf4sJu59K0aRM2rMtgyFPPMvKN0V5EqbIWLZox4vWhxMUFCAQCjBs3iclTZnodq0JjRg/jqKOOpLCwiHvufZydO3d5HalC55/XmZsGXsPiJcvJSC/5MnvyyWeYOm22x8nKV1xczL33PcGUye8RFwjwxptjWL58ldexyuW3vBBdmR/5zzgysjewM38vF//hOe644iJ+268rD730PhM/z6R5k8Y8O+haANqlHEPvzh248o8vERcX4I83/Yq4QMlv2vsGXMzjw8bzj/emcWTD+jx1W39P/p4D/Pj5VhsF/TA8GwYWrePQ8XVSojNYLRI4yLyEaBcrb0yp3fI/e9brCNXW4MIHvY4QE4r259boB/NNra8K24fq21+Pj9ovFV0uQkREJEbFys9HNXZERERilK6NJSIiIlILqGdHREQkRkX7+XHCRY0dERGRGBXth4yHi4axREREpFZTz46IiEiMipUJymrsiIiIxKhYmbOjYSwRERGp1dSzIyIiEqNiZYKyGjsiIiIxKlovGRVuGsYSERGRWk09OyIiIjFKR2N5LGovnVoOP1YXXUFcxBt+vIL4nvEPeB2hWhpe9ZzXEXxBc3ZERESkVtOh5yIiIiK1gHp2REREYpTm7IiIiEitpkPPRURERGoBNXZERERiVDCMS0XMrJWZfWpmK8xsmZndG1rfxMw+MbPVoX+PLLPNY2a2xsxWmlmfw/k71dgRERGJUS6M/1WiCHjAOXcycA4wyMxOAR4FZjnnTgBmhe4Teux6oAPQF3jZzOIO9e9UY0dEREQiyjmX55xbGLq9B1gBpAD9gTdDT3sTuCJ0uz8w2jn3g3NuPbAG6HKo+1djR0REJEYFcWFbzOx2M8sos9x+sH2aWRugIzAfaOacy4OSBhFwTOhpKcA3ZTbLCa07JDoaS0REJEaF82gs59wwYFhFzzGzBsAHwH3Oud1m5V4v4WAPHHJY9eyIiIhIxJlZAiUNnXedc+NDq7eYWYvQ4y2AraH1OUCrMpu3BDYd6r7V2BEREYlR4RzGqoiVdOG8Dqxwzv2zzEMfATeHbt8MfFhm/fVmVtfM2gInAGmH+ndqGEtERCRG1eC1sc4HbgKWmFlWaN0fgWeAsWZ2K7ARuBbAObfMzMYCyyk5kmuQc674UHeuxo6IiIhElHNuHgefhwPQs5xtngaeDsf+1dgRERGJUUFdLqL2ady4EaNHD2PJks9YvHgO55zdyetIlerTuzvLls4le/k8Hn5okNdxKjV82HNsyllEVuYsr6NUmd/KuG7dunz5xccsyPiERVmzGfynB7yOVCmVcc0IBAKkp03nwwlvVv7kGvTu3CVc/Y+xXPV/Y3ln7mIA/jM9g4uHvM2A58Yx4LlxfL5i40+2yduxh3Mfe503P13kReSD8mu9qIgL4xLNYqpn5/l/PsWM6Z9y/fW3k5CQQFJSPa8jVSgQCPDiC0/T99IbyMnJ46svpzDp4xmsWLHa62jleuutsbz88khGjnzB6yhV4scy/uGHH+jVewAFBXuJj49n7pwJTJv2KfPTFnod7aBUxjXnnrtvIzt7NY0aNvQ6Sqk1edsZP38F79x7JQlxcQwaPoULTm4NwMBup3PzRWccdLtnP/yS8086tiajVsqv9UIi1LNjZnXM7H/MrFfo/q/N7N9mNih06FmNa9iwAV27ns2IkaMAKCwsZNeu3V5EqbIunTuydu0G1q/fSGFhIWPHfsjllx3W5UEi7vN589m+Y6fXMarMj2UMUFCwF4CEhHjiExKi+srFKuOakZLSgksv6cmIEaO8jvIT67bu4PRjm1GvTgLxcQE6Hd+C2UvWV7jN7CXrSTmqIcc3P7LC53nBb/WiMjV1NJbXIjWMNRL4FXCvmb1Nyezq+UBn4LUI7bNCxx3Xmm3bvuP1154nPW06r77yj6jv2UlOac43OT+eViAnN4/k5OYeJqp9/FrGgUCAjPQZ5OUuZtasuaSlZ3odqVwq45rxz+eG8OhjfyEYrOySjDWrXfMmLFiXx86C79m3v5B5KzayZWc+AKO/WMq1z77P4NFz2L33BwD2/VDIG59m8fveqV7GLpff6kVl1Ng5PKc5564DrgR6A9c4594GbqHkFNEHVfZU08FgQVgDxcfF0bHjabz66lt07tKHgoK9PPzwXWHdR7gd7MySfv8VEW38WsbBYJDUzr1p3TaVzqkd6dDhRK8jlUtlHHm/urQXW7duY2HmEq+j/MJxzY7klh5n8vtXJzNo+BTaJx9FXFyAAeedwsd/vIEx919D00ZJPPfRl0DJXJ4bu51OUl1PBgEq5ad6IT+K1JydgJnVAeoDSUBjYDtQFyi3Bpc91XRCnZSwfhrm5OaRk5NX2gr/YPxkHn4ouhs7uTl5tGqZXHq/ZUoL8vK2eJio9vF7Ge/atZvP5v63ZALwspVexzkolXHknXdeKpf1680lfXuQmFiXRo0a8uYbL3Lzb+7xOhoAV559EleefRIAL06ZT7PGDTiqYVLp41edczL3vD4VgCUbt/LJ4nUM/fgr9uzbT8CMuglxXN/1VE+yl8cP9aIq/PDDIxwi1bPzOpANZAGPA++b2XAgHRgdoX1WaMuWb8nJ2UT79scD0KNHV1asWOVFlCpLz8iiXbu2tGnTioSEBAYM6M+kj2d4HatW8WMZN23ahMaNGwGQmJhIzx4XsHLlWo9TlU9lHHmPP/EMbY5LpV37c7hx4J18+ukXUdPQAdi+Zx9QcoTV7MUbuKRjO77d/WPv/ewl62nXvAkAI+/qz9QnbmTqEzdyY7fTuLVnx6hp6PitXlRFrAxjRaRnxzn3vJmNCd3eZGZvAb2A4c65Qz7d8+G67w9P8tab/6JOnQTWrd/Ibbfd71WUKikuLube+55gyuT3iAsEeOPNMSxfHt0NtHfefokLu51L06ZN2LAugyFPPcvINzxp31aJH8u4RYtmjHh9KHFxAQKBAOPGTWLylJlexyqXylgeeHMGu/Z+T3wgwGNXnU+jpLo8/t4XrMz9DjNIPrIhT1x7gdcxK6V64V8WrV1Y4R7GijRfhRURqaY94/11TpmGVz3ndYRDUrQ/t9zLgEdC5+RuYfv6St80t0azV0dMnWdHREREfhStHR7hFlNnUBYREZHYo54dERGRGBXtE4vDRY0dERGRGKVhLBEREZFaQD07IiIiMUrDWCIiIlKruRhp7GgYS0RERGo19eyIiIjEqGCMTFBWY0dERCRGaRhLREREpBZQz46IiEiM0jCWiIiI1GqxMowVtY2d2Ch+qa6ovaRuOcz8ljh2ful5KeDDetHIZ1cR3zPpMa8jSBSJ2saOiIiIRFas/LhRY0dERCRGxcowlo7GEhERkVpNPTsiIiIxSsNYIiIiUqtpGEtERESkFlDPjoiISIxyLuh1hBqhxo6IiEiMCmoYS0RERMT/1LMjIiISo5yOxhIREZHaTMNYIiIiIrWAenZERERilIaxREREpFaLlTMoaxhLREREarWYaey0bJnMzBnvs2TxHBZlzebuu271OlKl6taty5dffMyCjE9YlDWbwX96wOtIlerTuzvLls4le/k8Hn5okNdxqqRx40aMHj2MJUs+Y/HiOZxzdievI/3CsFefJeebLDIXzixd97e/PcGSxXNYkPEJ7499jcaNG3mYsGLDhz3HppxFZGXO8jpKlfmhLh+sXlx91a/IypzF9/s2ctZZp3uYrmLt2x9PRvqM0uW7bdncc/dtXscC4N05WVz9t3e56q/v8s6nWaXrR322iP5/eZur/vouz3/4BQCT01cy4O+jSpeO9/6L7JxvPUpefS6M/0Uzi9bxuvg6KWEN1rz5MbRofgyZWUtp0KA+afOncfU1v2XFitXh3E3Y1a+fREHBXuLj45k7ZwJ/uH8w89MWeh3roAKBACuWfU7fS28gJyePr76cwsCb7gxrGVvYXulHI14fyrx58xkxchQJCQkkJdVj167dYXlts/Ak7tr1bPLzCxg5Yigdz+oFQK9e3fj00y8oLi7mr0//EYA/Pv7Xw95XJLq1LziQf+QLnNmxZ9hfP9wiXZcDEawXJ53UjmAwyEv//juPPPpnFi5cHJZ9RfK7IhAI8PWGBZzftR8bN+aG5TV3T3rskLZbs+k7HnlzGu88MICEuDgG/edD/jjgIrbuzOe1Gen863eXUychju179tKkYdJPtl29aRv3DZ/M5ME3H3Luen3uisTHXLmaNT4pbP9jt+zKrtHs1RGxnh0zO97MHjSzF8zsOTP7vZk1jtT+KrN581Yys5YCkJ9fQHb2alKSm3sVp8oKCvYCkJAQT3xCQlRPJuvSuSNr125g/fqNFBYWMnbsh1x+WR+vY1WoYcMGdO16NiNGjgKgsLAwbA2dcJo3bz47duz8ybqZM+dSXFwMwPz5C0lJaeFBsqr5fN58tv8sfzTzS10+WL3Izl7DqlXrvAl0iHr06Mq6dV+HraFzONZt2c7prZtTr04C8XEBOrVLYfbitYydt4RbLu5EnYQ4gF80dACmLlhF307tazryYQniwrZEs4g0dszsHuAVIBHoDNQDWgFfmln3SOyzOlq3bsmZZ5zK/LRMr6NUKhAIkJE+g7zcxcyaNZe09OjNnJzSnG9yNpXez8nNIznKG5THHdeabdu+4/XXnic9bTqvvvIPkpLqeR2r2n7zm+uYPv1Tr2PUGn6sy3523YD+jBkz0esYALRrcRQL1m5iZ8E+9u0vZN7yr9myM5+vv93JwrWbGPjcWG594QOWfr3lF9vOWLiaS87yV2MnVkSqZ+d/gb7Oub8AvYBTnHOPA32B58vbyMxuN7MMM8sIBgsiEqx+/STGjhnO/Q8OZs+e/IjsI5yCwSCpnXvTum0qnVM70qHDiV5HKtfBhmyiuScKID4ujo4dT+PVV9+ic5c+FBTs5eGH7/I6VrU8+sjdFBUV896o8V5HqTX8WJf9KiEhgX79ejPug4+9jgLAcc2bcEuvs/j9Sx8y6D8f0T6lKXGBAMXBIHv2/sDb91/LfVecz8Mjp/2kTizZsJnEOgm0Sz7Kw/TV55wL2xLNIjlB+cBh7XWBhgDOuY1AQnkbOOeGOedSnXOpgUD98AeKj+f9McMZNWoCEydODfvrR9KuXbv5bO5/6dO7u9dRypWbk0erlsml91umtCAv75e/fqJJTm4eOTl5pT1mH4yfTMczT/M4VdXdNPAaLr20F/9zs78aaNHOj3XZr/r2vYjMzCVs3brN6yilrjy3A6Mfvp4R915No6S6HHt0Y5o1bkCPM47HzDitdXMCBjvyvy/dZtrC1fTtdIKHqQ9N0LmwLdEsUo2d14B0MxsGfAn8G8DMjga2R2iflRo+7DlWZK9h6AvDvIpQLU2bNik9wiYxMZGePS5g5cq1HqcqX3pGFu3ataVNm1YkJCQwYEB/Jn08w+tYFdqy5VtycjbRvv3xQMncgRUrVnmcqmp69+7Ogw/eyVVX38K+fd9XvoFUmR/rsl9dd90VUTOEdcD2PSVzJfO272H2orVc0qk9F51+HOmrcgD4eusOCouDHNkgEYBg0PFJ5mr6aggrakXsaCwz6wCcDCx1zmVXd/twH411/nmd+WzORBYvWU4wWPLSTz75DFOnzQ7nbsLqtNNOZsTrQ4mLCxAIBBg3bhJ/eXqo17EqdEnfHjz33BDiAgHeeHMMf3vmxbC+fiSm+p9xRgdefeUf1KmTwLr1G7nttvvZuXNXWF47XEdjvf3Wv+nW7VyaNm3Cli3beOrPz/Hww3dRt04dtm/fAcD8tIXcddehHYFSViR+ob3z9ktcWCb/kKeeZeQbo8O+n3CKZF0O19FYB6sXO7bv5Pnn/8zRRzdh587dLFq8jH79Bh72viLxXVGvXiLr12XQ/sRz2b17T1hf+1CPxgK4Zeg4dhV8T3xcgAeuvICzT2xFYVExg9+bxcrcb0mIi+P+K86nS/tWAKSvzuHFj/7L2w8MOOzcNX001pEN2oXtf+yO/DVRezRWzBx6LrVD1L6TyhGuxk5Nivbu6NogXI2dmhSt3xXlOZzGjpdqurHTuMHxYfsfuyt/bdRW7Jg5qaCIiIjEJl0bS0REJEb5rcfuUKmxIyIiEqNiZdhaw1giIiJSq6lnR0REJEZF+wU8w0WNHRERkRilYSwRERGRWkA9OyIiIjFKR2OJiIhIrRYrc3Y0jCUiIiK1mnp2REREYlSsDGOpZ0dERCRGOefCtlTGzPqa2UozW2Nmj9bAn1dKjR0RERGJKDOLA14CLgFOAW4ws1Nqav9q7IiIiMQoF8alEl2ANc65dc65/cBooH9Y/5gKRO2cnaL9uRG7VLyZ3e6cGxap1w83v+UF/2X2W15Q5prgt7ygzDXBb3krEs7vWjO7Hbi9zKphZcopBfimzGM5wNnh2ndlYrVn5/bKnxJV/JYX/JfZb3lBmWuC3/KCMtcEv+WtEc65Yc651DJL2QbhwRpVNTY7OlYbOyIiIlJzcoBWZe63BDbV1M7V2BEREZFISwdOMLO2ZlYHuB74qKZ2HrVzdiLMb2OtfssL/svst7ygzDXBb3lBmWuC3/J6zjlXZGZ3AdOBOGCEc25ZTe3fYuWEQiIiIhKbNIwlIiIitZoaOyIiIlKrxVRjx8tTVR8KMxthZlvNbKnXWarCzFqZ2admtsLMlpnZvV5nqoyZJZpZmpktCmUe4nWmqjCzODPLNLOPvc5SFWa2wcyWmFmWmWV4nacqzOwIMxtnZtmhOn2u15kqYmYnhsr3wLLbzO7zOldFzOwPoffdUjMbZWaJXmeqjJndG8q7LNrLV34UM3N2QqeqXgVcTMkhcOnADc655Z4Gq4CZdQPygbecc6d6nacyZtYCaOGcW2hmDYEFwBVRXsYG1HfO5ZtZAjAPuNc595XH0SpkZvcDqUAj51w/r/NUxsw2AKnOuW1eZ6kqM3sT+Nw591ro6JEk59xOj2NVSejzLhc42zn3tdd5DsbMUih5v53inNtnZmOBKc65N7xNVj4zO5WSM/92AfYD04A7nHOrPQ0mlYqlnh1PT1V9KJxzc4HtXueoKudcnnNuYej2HmAFJWfNjFquRH7obkJoiepfAGbWEvgV8JrXWWorM2sEdANeB3DO7fdLQyekJ7A2Whs6ZcQD9cwsHkiiBs+7cohOBr5yzu11zhUBnwFXepxJqiCWGjsHO1V1VH8R+5mZtQE6AvM9jlKp0JBQFrAV+MQ5F+2ZhwIPA0GPc1SHA2aY2YLQKeWj3XHAt8DI0HDha2ZW3+tQ1XA9MMrrEBVxzuUCzwIbgTxgl3NuhrepKrUU6GZmR5lZEnApPz1RnkSpWGrseHqq6lhiZg2AD4D7nHO7vc5TGedcsXPuTErO6Nkl1FUdlcysH7DVObfA6yzVdL5z7ixKrng8KDREG83igbOA/zjnOgIFQNTP8wMIDbldDrzvdZaKmNmRlPSutwWSgfpmNtDbVBVzzq0A/g58QskQ1iKgyNNQUiWx1Njx9FTVsSI07+UD4F3n3Hiv81RHaJhiDtDX2yQVOh+4PDQHZjTQw8ze8TZS5Zxzm0L/bgUmUDKsHM1ygJwyvXzjKGn8+MElwELn3Bavg1SiF7DeOfetc64QGA+c53GmSjnnXnfOneWc60bJNAPN1/GBWGrseHqq6lgQmuz7OrDCOfdPr/NUhZkdbWZHhG7Xo+QDONvTUBVwzj3mnGvpnGtDSR2e7ZyL6l/DZlY/NGGd0FBQb0qGA6KWc24z8I2ZnRha1ROI2on2P3MDUT6EFbIROMfMkkKfHT0pmecX1czsmNC/xwJX4Y+yjnkxc7kIr09VfSjMbBTQHWhqZjnAYOfc696mqtD5wE3AktAcGIA/OuemeBepUi2AN0NHrwSAsc45XxzO7SPNgAkl32fEA+8556Z5G6lK7gbeDf04Wgfc4nGeSoXmkVwM/M7rLJVxzs03s3HAQkqGgjLxx2UYPjCzo4BCYJBzbofXgaRyMXPouYiIiMSmWBrGEhERkRikxo6IiIjUamrsiIiISK2mxo6IiIjUamrsiIiISK2mxo6IT5lZcejq1kvN7P3QYceH+lpvmNk1oduvmdkpFTy3u5lV++RvoSufNz3UjCIih0qNHRH/2uecO9M5dyolV2D+fdkHQ+cOqjbn3G2VXKm+Oz44062IyAFq7IjUDp8D7UK9Lp+a2XuUnNwxzsz+YWbpZrbYzH4HJWe7NrN/m9lyM5sMHHPghcxsjpmlhm73NbOFZrbIzGaFLvD6e+APoV6lC0Jnof4gtI90Mzs/tO1RZjYjdCHNVzn49elERCIuZs6gLFJbmVk8JddDOnBW4i7Aqc659aErjO9yznU2s7rAF2Y2g5Ir0p8InEbJGY6XAyN+9rpHA8OBbqHXauKc225mrwD5zrlnQ897D3jeOTcvdAr96cDJwGBgnnPuKTP7FeCHq52LSC2kxo6If9Urc1mOzym5Ltl5QJpzbn1ofW/g9APzcYDGwAlAN2CUc64Y2GRmsw/y+ucAcw+8lnNuezk5egGnhC4HAdAodC2sbpRcOwjn3GQz02n1RcQTauyI+Nc+59yZZVeEGhwFZVcBdzvnpv/seZcClV0rxqrwHCgZDj/XObfvIFl0PRoR8Zzm7IjUbtOBO8wsAcDM2oeuPD4XuD40p6cFcNFBtv0SuNDM2oa2bRJavwdoWOZ5M4C7DtwxszNDN+cCN4bWXQIcGa4/SkSkOtTYEandXqNkPs5CM1sKvEpJj+4EYDWwBPgP8NnPN3TOfUvJPJvxZrYIGBN6aBJw5YEJysA9QGpoAvRyfjwqbAjQzcwWUjKctjFCf6OISIV01XMRERGp1dSzIyIiIrWaGjsiIiJSq6mxIyIiIrWaGjsiIiJSq6mxIyIiIrWaGjsiIiJSq6mxIyIiIrXa/wecETaLWfyBNAAAAABJRU5ErkJggg==\n",
      "text/plain": [
       "<Figure size 720x504 with 2 Axes>"
      ]
     },
     "metadata": {
      "needs_background": "light"
     },
     "output_type": "display_data"
    }
   ],
   "source": [
    "import seaborn as sns\n",
    "plt.figure(figsize=(10,7))\n",
    "sns.heatmap(cm,annot=True,fmt='d')\n",
    "plt.xlabel('Predicted')\n",
    "plt.ylabel('Truth')"
   ]
  },
  {
   "cell_type": "code",
   "execution_count": null,
   "id": "ba25487a",
   "metadata": {},
   "outputs": [],
   "source": []
  }
 ],
 "metadata": {
  "kernelspec": {
   "display_name": "Python 3",
   "language": "python",
   "name": "python3"
  },
  "language_info": {
   "codemirror_mode": {
    "name": "ipython",
    "version": 3
   },
   "file_extension": ".py",
   "mimetype": "text/x-python",
   "name": "python",
   "nbconvert_exporter": "python",
   "pygments_lexer": "ipython3",
   "version": "3.8.8"
  }
 },
 "nbformat": 4,
 "nbformat_minor": 5
}
